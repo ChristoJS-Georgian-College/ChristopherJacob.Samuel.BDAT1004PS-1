{
 "cells": [
  {
   "cell_type": "markdown",
   "metadata": {},
   "source": [
    "### **Q6.**"
   ]
  },
  {
   "cell_type": "code",
   "execution_count": 45,
   "metadata": {},
   "outputs": [
    {
     "name": "stdout",
     "output_type": "stream",
     "text": [
      "After applying pig-Latin to Ark we get:\n",
      "arkway\n",
      "\n",
      "After applying pig-Latin to Noah we get:\n",
      "oahnay\n"
     ]
    }
   ],
   "source": [
    "def pig(user_input):\n",
    "\n",
    "    # make user input as lower case\n",
    "    user_input = user_input.lower()\n",
    "\n",
    "    # list of vowels\n",
    "    vowels = ['a', 'e', 'i', 'o', 'u']\n",
    "\n",
    "    # taking the first letter of our input\n",
    "    first_letter = user_input[0]\n",
    "\n",
    "    # initializing a variable to store a modified user input\n",
    "    modified_user_input = \"\"\n",
    "\n",
    "    if first_letter in vowels:\n",
    "        \n",
    "        # if vowel\n",
    "        modified_user_input = user_input + \"way\"\n",
    "\n",
    "    else:\n",
    "\n",
    "        # if consonant\n",
    "        modified_user_input = user_input[1:]\n",
    "        modified_user_input = modified_user_input + first_letter\n",
    "        modified_user_input = modified_user_input + \"ay\"\n",
    "\n",
    "    return modified_user_input\n",
    "\n",
    "# Taking user input #1\n",
    "user_input = input(\"Enter your word: \")\n",
    "\n",
    "# Sending user input to the pig() function and storing the value of the function in the variable result\n",
    "result = pig(user_input)\n",
    "\n",
    "print(f\"After applying pig-Latin to {user_input} we get:\")\n",
    "print(result)\n",
    "\n",
    "# Taking user input #2\n",
    "user_input = input(\"Enter your word: \")\n",
    "\n",
    "# Sending user input to the pig() function and storing the value of the function in the variable result\n",
    "result = pig(user_input)\n",
    "\n",
    "print(f\"\\nAfter applying pig-Latin to {user_input} we get:\")\n",
    "print(result)"
   ]
  },
  {
   "cell_type": "markdown",
   "metadata": {},
   "source": [
    "### **Q7.**"
   ]
  },
  {
   "cell_type": "code",
   "execution_count": 46,
   "metadata": {},
   "outputs": [
    {
     "name": "stdout",
     "output_type": "stream",
     "text": [
      "There are 15 patients of blood type A_\n",
      "There are 15 patients of blood type O_\n",
      "There are 1 patients of blood type B_\n",
      "There are 13 patients of blood type AB_\n"
     ]
    }
   ],
   "source": [
    "def bldcount():\n",
    "\n",
    "    name = open(\"bloodtype1.txt\", \"r\")  # opening the file in read mode\n",
    "\n",
    "    contents = name.read()  # getting the contents of the file\n",
    "\n",
    "    contents_list = contents.split()  # creating a list of items separated by space\n",
    "    \n",
    "    blood_types = set(contents_list)  # taking out all the unique values\n",
    "\n",
    "    # iterating through each blood types\n",
    "    for blood_type in blood_types:\n",
    "        \n",
    "        count = 0  # setting a counter variable\n",
    "\n",
    "        # iterating through each item from the contents list\n",
    "        for content in contents_list:\n",
    "\n",
    "            # if blood type matches the item\n",
    "            if blood_type == content:\n",
    "\n",
    "                count += 1  # add 1 to the counter\n",
    "        \n",
    "        print(f\"There are {count} patients of blood type {blood_type}_\")\n",
    "\n",
    "    name.close()  # closing the file\n",
    "\n",
    "# calling the function\n",
    "bldcount()"
   ]
  },
  {
   "cell_type": "markdown",
   "metadata": {},
   "source": [
    "### **Q8.** *Part 1*"
   ]
  },
  {
   "cell_type": "code",
   "execution_count": 53,
   "metadata": {},
   "outputs": [
    {
     "name": "stdout",
     "output_type": "stream",
     "text": [
      "[['AUD', '1.0345157', 'Australian Dollar'], ['CHF', '1.0237414', 'Swiss Franc'], ['CNY', '0.1550176', 'Chinese Yuan'], ['DKK', '0.1651442', 'Danish Krone'], ['EUR', '1.2296544', 'Euro'], ['GBP', '1.5550989', 'British Pound'], ['HKD', '0.1270207', 'Hong Kong Dollar'], ['INR', '0.0177643', 'Indian Rupee'], ['JPY', '0.01241401', 'Japanese Yen'], ['MXN', '0.0751848', 'Mexican Peso'], ['MYR', '0.3145411', 'Malaysian Ringgit'], ['NOK', '0.1677063', 'Norwegian Krone'], ['NZD', '0.8003591', 'New Zealand Dollar'], ['PHP', '0.0233234', 'Philippine Peso'], ['SEK', '0.148269', 'Swedish Krona'], ['SGD', '0.788871', 'Singapore Dollar'], ['THB', '0.0313789', 'Thai Baht']]\n"
     ]
    }
   ],
   "source": [
    "currency = open(\"currencies.txt\", \"r\")  # opening the file in read mode\n",
    "\n",
    "currency_list = currency.read()\n",
    "# print(currency_list)\n",
    "\n",
    "final_list = []\n",
    "\n",
    "currency_list = currency_list.split(\"\\n\")\n",
    "for x in currency_list:\n",
    "    final_list.append(x.split(\"\\t\"))\n",
    "\n",
    "print(final_list)\n",
    "\n",
    "currency.close()  # closing the file"
   ]
  },
  {
   "cell_type": "markdown",
   "metadata": {},
   "source": [
    "### **Q8.** *Part 2*"
   ]
  },
  {
   "cell_type": "code",
   "execution_count": 48,
   "metadata": {},
   "outputs": [
    {
     "name": "stdout",
     "output_type": "stream",
     "text": [
      "100 British Pound, in USD is: 155.50988999999998\n",
      "100 EUR, in USD is: 122.96544\n",
      "100 JPY, in USD is: 1.241401\n",
      "100 New Zealand Dollar, in USD is: 80.03591\n"
     ]
    }
   ],
   "source": [
    "def curconv(currency, currency_amount):\n",
    "    \n",
    "    # initalizing a variable to store the amount in USD\n",
    "    amount_in_usd = 0\n",
    "\n",
    "    # iterating through each country the final list\n",
    "    for country in final_list:\n",
    "\n",
    "        # check if input as shortform or fullform in the list countries\n",
    "        if country[0] == currency or country[2] == currency:\n",
    "\n",
    "            # multiplying entered amount with the currency rate\n",
    "            amount_in_usd = float(country[1]) * float(currency_amount)\n",
    "\n",
    "    # returning all 3 to prettify output\n",
    "    return amount_in_usd, currency, currency_amount\n",
    "\n",
    "amount_1, c_, a_ = curconv(\"British Pound\", 100)\n",
    "print(f\"{a_} {c_}, in USD is: {amount_1}\")\n",
    "\n",
    "amount_2, c_, a_ = curconv(\"EUR\", 100)\n",
    "print(f\"{a_} {c_}, in USD is: {amount_2}\")\n",
    "\n",
    "amount_3, c_, a_  = curconv(\"JPY\", 100)\n",
    "print(f\"{a_} {c_}, in USD is: {amount_3}\")\n",
    "\n",
    "amount_4, c_, a_  = curconv(\"New Zealand Dollar\", 100)\n",
    "print(f\"{a_} {c_}, in USD is: {amount_4}\")"
   ]
  },
  {
   "cell_type": "markdown",
   "metadata": {},
   "source": [
    "### Q9."
   ]
  },
  {
   "cell_type": "markdown",
   "metadata": {},
   "source": [
    "#### Scenarios\n",
    "\n",
    "* Trying to add incompatible variables, as in adding 6 + ‘a’\n",
    "\n",
    "*Ans* - TypeError as 6 is type int and a is type str.\n",
    "\n",
    "* Referring to the 12th item of a list that has only 10 items\n",
    "\n",
    "*Ans* - It raises an IndexError, as the final index is 9 (which is item 10).\n",
    "\n",
    "* Using a value that is out of range for a function’s input, such as calling math.sqrt(-1.0)\n",
    "\n",
    "*Ans* - It raises a ValueError as there cannot exist negative square roots\n",
    "\n",
    "* Using an undeclared variable, such as print(x), when x has not been defined\n",
    "\n",
    "*Ans* - NameError, as 'x' cannot be found when compiling.\n",
    "\n",
    "* Trying to open a file that does not exist, such as mistyping the file name or looking in the wrong directory.\n",
    "\n",
    "*Ans* - FileNotFoundError, as Python cannot locate it."
   ]
  },
  {
   "cell_type": "markdown",
   "metadata": {},
   "source": [
    "### Q10."
   ]
  },
  {
   "cell_type": "code",
   "execution_count": 67,
   "metadata": {},
   "outputs": [
    {
     "name": "stdout",
     "output_type": "stream",
     "text": [
      "Frequency list for The quick red fox got bored and went home\n",
      "[1, 1, 1, 3, 5, 1, 1, 2, 1, 0, 1, 0, 1, 2, 4, 0, 1, 2, 0, 2, 1, 0, 1, 1, 0, 0]\n",
      "\n",
      "Frequency list for apples\n",
      "[1, 0, 0, 0, 1, 0, 0, 0, 0, 0, 0, 1, 0, 0, 0, 2, 0, 0, 1, 0, 0, 0, 0, 0, 0, 0]\n"
     ]
    }
   ],
   "source": [
    "def frequencies(user_string):\n",
    "    \n",
    "    # variable to store the 26 alphabets\n",
    "    letters = \"abcdefghijklmnopqrstuvwxyz\"\n",
    "\n",
    "    # initialized an empty list to hold the frequency of each letter\n",
    "    frequency_list = []\n",
    "\n",
    "    # checking for each alphabet\n",
    "    for alphabet_letter in letters:\n",
    "\n",
    "        # initialized a counter\n",
    "        counter = 0\n",
    "\n",
    "        # checking each letter of the user input\n",
    "        for user_letter in user_string:\n",
    "\n",
    "            # if alphabet matches user string's letter\n",
    "            if user_letter == alphabet_letter:\n",
    "\n",
    "                counter += 1\n",
    "        \n",
    "        # adding the frequency to the list of frequencies\n",
    "        frequency_list.append(counter)\n",
    "\n",
    "    return frequency_list\n",
    "\n",
    "string_1 = \"The quick red fox got bored and went home\"\n",
    "value_1 = frequencies(string_1)\n",
    "print(f\"Frequency list for {string_1}\")\n",
    "print(value_1)\n",
    "\n",
    "string_2 = \"apples\"\n",
    "value_2 = frequencies(string_2)\n",
    "print(f\"\\nFrequency list for {string_2}\")\n",
    "print(value_2)\n"
   ]
  }
 ],
 "metadata": {
  "interpreter": {
   "hash": "9e3bfd5707cea17bcbe380e30b983be31a9c4e73ed42697506103186bbe325e5"
  },
  "kernelspec": {
   "display_name": "Python 3.9.2 64-bit",
   "language": "python",
   "name": "python3"
  },
  "language_info": {
   "codemirror_mode": {
    "name": "ipython",
    "version": 3
   },
   "file_extension": ".py",
   "mimetype": "text/x-python",
   "name": "python",
   "nbconvert_exporter": "python",
   "pygments_lexer": "ipython3",
   "version": "3.9.2"
  },
  "orig_nbformat": 4
 },
 "nbformat": 4,
 "nbformat_minor": 2
}
