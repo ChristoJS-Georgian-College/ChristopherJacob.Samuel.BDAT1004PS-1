{
 "cells": [
  {
   "cell_type": "markdown",
   "metadata": {},
   "source": [
    "### **Q1.**"
   ]
  },
  {
   "cell_type": "markdown",
   "metadata": {},
   "source": [
    "* 5\n",
    "\n",
    "*Ans* - Int32\n",
    "\n",
    "* 5.0\n",
    "\n",
    "*Ans* - Double\n",
    "\n",
    "* 5 > 1\n",
    "\n",
    "*Ans* - Boolean\n",
    "\n",
    "* '5'\n",
    "\n",
    "*Ans* - Char\n",
    "\n",
    "* 5 * 2\n",
    "\n",
    "*Ans* - Int32\n",
    "\n",
    "* '5' * 2\n",
    "\n",
    "*Ans* - Int32\n",
    "\n",
    "* '5' + '2'\n",
    "\n",
    "*Ans* - Int32\n",
    "\n",
    "* 5 / 2\n",
    "\n",
    "*Ans* - Int32\n",
    "\n",
    "* 5 % 2\n",
    "\n",
    "*Ans* - Int32\n",
    "\n",
    "* {5, 2, 1}\n",
    "\n",
    "*Ans* - Int32\n",
    "\n",
    "* 5 == 3\n",
    "\n",
    "*Ans* - Boolean\n",
    "\n",
    "* Pi (the number)\n",
    "\n",
    "*Ans* - Double"
   ]
  },
  {
   "cell_type": "markdown",
   "metadata": {},
   "source": [
    "### **Q2.** *a*"
   ]
  },
  {
   "cell_type": "code",
   "execution_count": null,
   "metadata": {
    "dotnet_interactive": {
     "language": "csharp"
    },
    "vscode": {
     "languageId": "dotnet-interactive.csharp"
    }
   },
   "outputs": [
    {
     "name": "stdout",
     "output_type": "stream",
     "text": [
      "Supercalifragilisticexpialidocious has 34 letters."
     ]
    }
   ],
   "source": [
    "String letters = \"Supercalifragilisticexpialidocious\";\n",
    "\n",
    "Console.Write(letters + \" has \" + letters.Length + \" letters.\");"
   ]
  },
  {
   "cell_type": "markdown",
   "metadata": {},
   "source": [
    "### **Q2.** *b*"
   ]
  },
  {
   "cell_type": "code",
   "execution_count": null,
   "metadata": {
    "dotnet_interactive": {
     "language": "csharp"
    },
    "vscode": {
     "languageId": "dotnet-interactive.csharp"
    }
   },
   "outputs": [
    {
     "name": "stdout",
     "output_type": "stream",
     "text": [
      "Yes 'ice' is found in 'Supercalifragilisticexpialidocious'"
     ]
    }
   ],
   "source": [
    "String string_ = \"Supercalifragilisticexpialidocious\";\n",
    "\n",
    "String sub_string_ = \"ice\";\n",
    "\n",
    "if (string_.Contains(sub_string_))\n",
    "{\n",
    "    Console.Write(\"Yes '\" + sub_string_ + \"' is found in '\" + string_ + \"'\");\n",
    "}"
   ]
  },
  {
   "cell_type": "markdown",
   "metadata": {},
   "source": [
    "### **Q2.** *c*"
   ]
  },
  {
   "cell_type": "code",
   "execution_count": null,
   "metadata": {
    "dotnet_interactive": {
     "language": "csharp"
    },
    "vscode": {
     "languageId": "dotnet-interactive.csharp"
    }
   },
   "outputs": [],
   "source": [
    "String word_1 = \"Supercalifragilisticexpialidocious\";\n",
    "String word_2 = \"Honorificabilitudinitatibus\";\n",
    "String word_3 = \"Bababadalgharaghtakamminarronnkonn\";\n",
    "\n",
    "int word_1_length = word_1.Length;\n",
    "int word_2_length = word_2.Length;\n",
    "int word_3_length = word_3.Length;"
   ]
  },
  {
   "cell_type": "code",
   "execution_count": null,
   "metadata": {
    "dotnet_interactive": {
     "language": "csharp"
    },
    "vscode": {
     "languageId": "dotnet-interactive.csharp"
    }
   },
   "outputs": [],
   "source": [
    "/*\n",
    "Easy to compare 3 numbers, but took reference to consider situations when 2 of them are same.\n",
    "\n",
    "https://softwareengineering.stackexchange.com/questions/287487/simple-and-clean-way-of-comparing-three-numbers\n",
    "*/"
   ]
  },
  {
   "cell_type": "code",
   "execution_count": null,
   "metadata": {
    "dotnet_interactive": {
     "language": "csharp"
    },
    "vscode": {
     "languageId": "dotnet-interactive.csharp"
    }
   },
   "outputs": [
    {
     "name": "stdout",
     "output_type": "stream",
     "text": [
      "Supercalifragilisticexpialidocious & Bababadalgharaghtakamminarronnkonn are the biggest words with lengths 34 & 34 respectively.\r\n"
     ]
    }
   ],
   "source": [
    "if (word_1_length == word_2_length && word_2_length == word_3_length)\n",
    "{\n",
    "    Console.WriteLine(\"All 3 words have the same length, which is: \" + word_1_length);\n",
    "}\n",
    "else if (word_1_length > word_2_length)\n",
    "{\n",
    "    if (word_1_length == word_3_length)\n",
    "    {\n",
    "        Console.WriteLine(word_1 + \" & \" + word_3 + \" are the biggest words with lengths \" + word_1_length + \" & \" + word_3_length + \" respectively.\");\n",
    "    }\n",
    "    else if (word_1_length > word_3_length)\n",
    "    {\n",
    "        Console.WriteLine(word_1 + \" is the biggest word with the length \" + word_1_length);\n",
    "    }\n",
    "    else\n",
    "    {\n",
    "        Console.WriteLine(word_3 + \" is the biggest word with the length \" + word_3_length);\n",
    "    }\n",
    "}\n",
    "else \n",
    "{\n",
    "    if (word_1_length == word_2_length)\n",
    "    {\n",
    "        Console.WriteLine(word_1 + \" & \" + word_2 + \" are the biggest words with lengths \" + word_1_length + \" & \" + word_2_length + \" respectively.\");\n",
    "    }\n",
    "    else if (word_2_length > word_3_length)\n",
    "    {\n",
    "        Console.WriteLine(word_2 + \" is the biggest word with the length \" + word_2_length);\n",
    "    }\n",
    "    else if (word_2_length == word_3_length)\n",
    "    {\n",
    "        Console.WriteLine(word_2 + \" & \" + word_3 + \" are the biggest words with lengths \" + word_2_length + \" & \" + word_3_length + \" respectively.\");\n",
    "    }\n",
    "    else\n",
    "    {\n",
    "        Console.WriteLine(word_3 + \" is the biggest word with the length \" + word_3_length);\n",
    "    } \n",
    "}"
   ]
  },
  {
   "cell_type": "markdown",
   "metadata": {},
   "source": [
    "### **Q2.** *d*"
   ]
  },
  {
   "cell_type": "code",
   "execution_count": null,
   "metadata": {
    "dotnet_interactive": {
     "language": "csharp"
    },
    "vscode": {
     "languageId": "dotnet-interactive.csharp"
    }
   },
   "outputs": [
    {
     "name": "stdout",
     "output_type": "stream",
     "text": [
      "Bartok Bellini Berlioz Bernstein Borodin Brian Buxtehude \n",
      "\n",
      "First item is: Bartok\n",
      "Last item is: Buxtehude"
     ]
    }
   ],
   "source": [
    "// list to sort\n",
    "String[] list = {\"Berlioz\", \"Borodin\", \"Brian\", \"Bartok\", \"Bellini\", \"Buxtehude\", \"Bernstein\"};\n",
    "\n",
    "// array function to sort\n",
    "Array.Sort(list);\n",
    "\n",
    "// view sorted array\n",
    "foreach (String item in list)\n",
    "{\n",
    "    Console.Write(item + \" \");\n",
    "}\n",
    "\n",
    "Console.Write(\"\\n\\nFirst item is: \" + list[0]);\n",
    "\n",
    "// calculating number of elements in list\n",
    "int list_length = list.Length;\n",
    "\n",
    "// - 1 as indexing starts at 0\n",
    "Console.Write(\"\\nLast item is: \" + list[list_length - 1]);\n"
   ]
  },
  {
   "cell_type": "markdown",
   "metadata": {},
   "source": [
    "### **Q3.**"
   ]
  },
  {
   "cell_type": "code",
   "execution_count": null,
   "metadata": {
    "dotnet_interactive": {
     "language": "csharp"
    },
    "vscode": {
     "languageId": "dotnet-interactive.csharp"
    }
   },
   "outputs": [],
   "source": [
    "using System;  // to use Math.Sqrt\n",
    "using System.Collections.Generic;\n",
    "using System.Linq;\n",
    "using System.Text;\n",
    "using System.Threading.Tasks;\n",
    "\n",
    "namespace Assignment_1.Classes\n",
    "{\n",
    "    internal class Triangle\n",
    "    {\n",
    "        public double triangleArea(double a, double b, double c)\n",
    "        {\n",
    "            // heron's formula\n",
    "            double s = (a + b + c) / 2;\n",
    "\n",
    "            // calculating area\n",
    "            double area = s * (s - a) * (s - b) * (s - c);\n",
    "\n",
    "            // calculating square root \n",
    "            area = Math.Sqrt(area);\n",
    "\n",
    "            return area;\n",
    "        }\n",
    "    }\n",
    "}\n"
   ]
  },
  {
   "cell_type": "code",
   "execution_count": null,
   "metadata": {
    "dotnet_interactive": {
     "language": "csharp"
    },
    "vscode": {
     "languageId": "dotnet-interactive.csharp"
    }
   },
   "outputs": [],
   "source": [
    "using Assignment_1.Classes; // Code to import class Triangle in Visual Studio\n",
    "\n",
    "// Triangle Object\n",
    "Triangle triangle_obj = new Triangle();\n",
    "\n",
    "// Getting user input\n",
    "\n",
    "Console.Write(\"Enter the value of a: \");\n",
    "double a = double.Parse(Console.ReadLine());\n",
    "\n",
    "Console.Write(\"Enter the value of b: \");\n",
    "double b = double.Parse(Console.ReadLine());\n",
    "\n",
    "Console.Write(\"Enter the value of c: \");\n",
    "double c = double.Parse(Console.ReadLine());\n",
    "\n",
    "// Calculating\n",
    "double calculated_area = triangle_obj.triangleArea(a, b, c);\n",
    "\n",
    "Console.WriteLine(\"\\nArea is: \" + calculated_area);"
   ]
  },
  {
   "cell_type": "markdown",
   "metadata": {},
   "source": [
    "### **Q4.**"
   ]
  },
  {
   "cell_type": "code",
   "execution_count": null,
   "metadata": {
    "dotnet_interactive": {
     "language": "csharp"
    },
    "vscode": {
     "languageId": "dotnet-interactive.csharp"
    }
   },
   "outputs": [],
   "source": [
    "using System;\n",
    "using System.Collections.Generic;\n",
    "using System.Linq;\n",
    "using System.Text;\n",
    "using System.Threading.Tasks;\n",
    "\n",
    "namespace Assignment_1.Models\n",
    "{\n",
    "    internal class Separator\n",
    "    {\n",
    "        public void odd_even_separator(int[] user_array)\n",
    "        {\n",
    "            List<int> even_inputs = new List<int>();  // Array to store even inputs\n",
    "            List<int> odd_inputs = new List<int>();  // Array to store odd inputs\n",
    "\n",
    "            for (int i = 0; i < user_array.Length; i++)\n",
    "            {\n",
    "                // checking if each item is odd or even\n",
    "                if (user_array[i] % 2 == 1)\n",
    "                {\n",
    "                    odd_inputs.Add(user_array[i]);\n",
    "                }\n",
    "                else\n",
    "                {\n",
    "                    even_inputs.Add(user_array[i]);\n",
    "                }\n",
    "            }\n",
    "\n",
    "            // Display all Even elements\n",
    "            Console.WriteLine(\"The Even Elements are: \");\n",
    "            for (int i = 0; i < even_inputs.Count; i++)\n",
    "            {\n",
    "                Console.Write(even_inputs[i] + \" \");\n",
    "            }\n",
    "\n",
    "            // Display all Odd elements\n",
    "            Console.WriteLine(\"\\nThe Odd Elements are: \");\n",
    "            for (int i = 0; i < odd_inputs.Count; i++)\n",
    "            {\n",
    "                Console.Write(odd_inputs[i] + \" \");\n",
    "            }\n",
    "        }\n",
    "    }\n",
    "}"
   ]
  },
  {
   "cell_type": "code",
   "execution_count": null,
   "metadata": {
    "dotnet_interactive": {
     "language": "csharp"
    },
    "vscode": {
     "languageId": "dotnet-interactive.csharp"
    }
   },
   "outputs": [],
   "source": [
    "using Assignment_1.Classes; // Code to import class Separator in Visual Studio\n",
    "\n",
    "int[] user_input = new int[5];\n",
    "\n",
    "// taking user input \n",
    "Console.WriteLine(\"Enter 5 numbers: \");\n",
    "\n",
    "for (int i = 0; i < user_input.Length; i++)\n",
    "{\n",
    "    user_input[i] = int.Parse(Console.ReadLine());\n",
    "}\n",
    "\n",
    "// Separator Object\n",
    "Separator separator_obj = new Separator();\n",
    "separator_obj.odd_even_separator(user_input);"
   ]
  },
  {
   "cell_type": "markdown",
   "metadata": {},
   "source": [
    "### **Q5** *a*"
   ]
  },
  {
   "cell_type": "code",
   "execution_count": null,
   "metadata": {
    "dotnet_interactive": {
     "language": "csharp"
    },
    "vscode": {
     "languageId": "dotnet-interactive.csharp"
    }
   },
   "outputs": [],
   "source": [
    "class Rectangle\n",
    "{\n",
    "    public bool rectanglePoint(double x, double y, double x1, double y1, double x2, double y2)\n",
    "    {\n",
    "        // Initializing a result variable\n",
    "        bool result = true;\n",
    "\n",
    "        if (x > x1 && x < x2 && y > y1 && y < y2)\n",
    "        {\n",
    "            return result;\n",
    "        }\n",
    "        else\n",
    "        {\n",
    "            result = false;\n",
    "            return result;\n",
    "        }\n",
    "    }\n",
    "}"
   ]
  },
  {
   "cell_type": "code",
   "execution_count": null,
   "metadata": {
    "dotnet_interactive": {
     "language": "csharp"
    },
    "vscode": {
     "languageId": "dotnet-interactive.csharp"
    }
   },
   "outputs": [
    {
     "name": "stdout",
     "output_type": "stream",
     "text": [
      "The point (1, 1) is inside the rectangle\r\n",
      "The point (-1, -1) is not inside the rectangle\r\n"
     ]
    }
   ],
   "source": [
    "Rectangle rectangle_obj = new Rectangle();\n",
    "\n",
    "// Scenario - 1, points to check\n",
    "int x = 1;\n",
    "int y = 1;\n",
    "\n",
    "// lower left point of rectangle\n",
    "int x1 = 0;\n",
    "int y1 = 0;\n",
    "\n",
    "// upper right point of rectangle\n",
    "int x2 = 2;\n",
    "int y2 = 3;\n",
    "\n",
    "// Rectangle Object\n",
    "bool points_1_result = rectangle_obj.rectanglePoint(x, y, x1, y1, x2, y2);\n",
    "\n",
    "if (points_1_result)\n",
    "{\n",
    "    Console.WriteLine($\"The point ({x}, {y}) is inside the rectangle\");\n",
    "}\n",
    "else\n",
    "{\n",
    "    Console.WriteLine($\"The point ({x}, {y}) is not inside the rectangle\");\n",
    "}\n",
    "\n",
    "// Scenario - 2, points to check\n",
    "x = -1;\n",
    "y = -1;\n",
    "\n",
    "// Rectangle Object\n",
    "bool points_2_result = rectangle_obj.rectanglePoint(x, y, x1, y1, x2, y2);\n",
    "\n",
    "if (points_2_result)\n",
    "{\n",
    "    Console.WriteLine($\"The point ({x}, {y}) is inside the rectangle\");\n",
    "}\n",
    "else\n",
    "{\n",
    "    Console.WriteLine($\"The point ({x}, {y}) is not inside the rectangle\");\n",
    "}"
   ]
  },
  {
   "cell_type": "markdown",
   "metadata": {},
   "source": [
    "### **Q5** *b*"
   ]
  },
  {
   "cell_type": "code",
   "execution_count": null,
   "metadata": {
    "dotnet_interactive": {
     "language": "csharp"
    },
    "vscode": {
     "languageId": "dotnet-interactive.csharp"
    }
   },
   "outputs": [
    {
     "name": "stdout",
     "output_type": "stream",
     "text": [
      "The point is within rectangle 2 but not rectangle 1.\r\n"
     ]
    }
   ],
   "source": [
    "Rectangle rectangle_obj = new Rectangle();\n",
    "\n",
    "// test points\n",
    "int test_x = 1;\n",
    "int test_y = 1;\n",
    "\n",
    "// Rectangle 1\n",
    "\n",
    "// lower left point of rectangle 1\n",
    "double rec1_x1 = 0.3;\n",
    "double rec1_y1 = 0.5;\n",
    "\n",
    "// upper right point of rectangle 1\n",
    "double rec1_x2 = 1.1;\n",
    "double rec1_y2 = 0.7;\n",
    "\n",
    "// Rectangle 2\n",
    "\n",
    "// lower left point of rectangle 2\n",
    "double rec2_x1 = 0.5;\n",
    "double rec2_y1 = 0.2;\n",
    "\n",
    "// upper right point of rectangle 2\n",
    "double rec2_x2 = 1.1;\n",
    "double rec2_y2 = 2;\n",
    "\n",
    "// testing\n",
    "bool points_1_result = rectangle_obj.rectanglePoint(test_x, test_y, rec1_x1, rec1_y1, rec1_x2, rec1_y2);\n",
    "bool points_2_result = rectangle_obj.rectanglePoint(test_x, test_y, rec2_x1, rec2_y1, rec2_x2, rec2_y2);\n",
    "\n",
    "\n",
    "if (points_1_result)\n",
    "{\n",
    "    if (points_2_result)\n",
    "    {\n",
    "        Console.WriteLine(\"The point is within both rectangles.\");\n",
    "    }\n",
    "    else\n",
    "    {\n",
    "        Console.WriteLine(\"The point is within rectangle 1 but not rectangle 2.\");\n",
    "    }\n",
    "}\n",
    "else if (points_2_result)\n",
    "{\n",
    "    Console.WriteLine(\"The point is within rectangle 2 but not rectangle 1.\");\n",
    "}\n",
    "else\n",
    "{\n",
    "    Console.WriteLine(\"The point is not within both rectangles.\");\n",
    "}"
   ]
  }
 ],
 "metadata": {
  "kernelspec": {
   "display_name": ".NET (C#)",
   "language": "C#",
   "name": ".net-csharp"
  },
  "language_info": {
   "file_extension": ".cs",
   "mimetype": "text/x-csharp",
   "name": "C#",
   "pygments_lexer": "csharp",
   "version": "9.0"
  },
  "orig_nbformat": 4
 },
 "nbformat": 4,
 "nbformat_minor": 2
}
